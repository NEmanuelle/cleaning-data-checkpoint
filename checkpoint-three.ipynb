{
 "cells": [
  {
   "cell_type": "markdown",
   "metadata": {
    "azdata_cell_guid": "26037d32-2047-4157-81ef-595916bd66a0"
   },
   "source": [
    "# Checkpoint Three: Cleaning Data\n",
    "\n",
    "Now you are ready to clean your data. Before starting coding, provide the link to your dataset below.\n",
    "\n",
    "My dataset:https://docs.google.com/document/d/1ktkpgEtOr3DYyDPrj0mfGDoUY40QRw-lAU7iSqYhws4/edit?usp=sharing\n",
    "\n",
    "Import the necessary libraries and create your dataframe(s)."
   ]
  },
  {
   "cell_type": "code",
   "execution_count": 1,
   "metadata": {
    "azdata_cell_guid": "e8adef8e-d0f2-4640-a179-5997f11e82ca"
   },
   "outputs": [],
   "source": [
    "import pandas as pd\n",
    "import seaborn as sns\n",
    "import matplotlib.pyplot as plt\n",
    "import numpy as np\n",
    "#Data for National and State for three years from the Bureau of Labor Statistics.\n",
    "N2021_df = pd.read_excel('/Users/nicolette/Desktop/LaunchCode/Project Arts/oesm21nat/national_M2021_dl.xlsx',index_col=None)\n",
    "S2021_df = pd.read_excel('/Users/nicolette/Desktop/LaunchCode/Project Arts/oesm21st/state_M2021_dl.xlsx',index_col=None)\n",
    "N2020_df = pd.read_excel('/Users/nicolette/Desktop/LaunchCode/Project Arts/oesm20nat/national_M2020_dl.xlsx',index_col=None)\n",
    "S2020_df = pd.read_excel('/Users/nicolette/Desktop/LaunchCode/Project Arts/oesm20st/state_M2020_dl.xlsx',index_col=None)\n",
    "N2019_df = pd.read_excel('/Users/nicolette/Desktop/LaunchCode/Project Arts/oesm19nat/national_M2019_dl.xlsx',index_col=None)\n",
    "S2019_df = pd.read_excel('/Users/nicolette/Desktop/LaunchCode/Project Arts/oesm19st/state_M2019_dl.xlsx',index_col=None)"
   ]
  },
  {
   "cell_type": "code",
   "execution_count": 2,
   "metadata": {},
   "outputs": [],
   "source": [
    "N2021_df.replace(\"**\", np.nan, inplace= True)\n",
    "S2021_df.replace(\"**\", np.nan, inplace= True)\n",
    "N2020_df.replace(\"**\", np.nan, inplace= True)\n",
    "S2020_df.replace(\"**\", np.nan, inplace= True)\n",
    "N2019_df.replace(\"**\", np.nan, inplace= True)\n",
    "S2019_df.replace(\"**\", np.nan, inplace= True)\n",
    "\n",
    "N2021_df.replace(\"*\", np.nan, inplace= True)\n",
    "S2021_df.replace(\"*\", np.nan, inplace= True)\n",
    "N2020_df.replace(\"*\", np.nan, inplace= True)\n",
    "S2020_df.replace(\"*\", np.nan, inplace= True)\n",
    "N2019_df.replace(\"*\", np.nan, inplace= True)\n",
    "S2019_df.replace(\"*\", np.nan, inplace= True)"
   ]
  },
  {
   "cell_type": "code",
   "execution_count": 3,
   "metadata": {},
   "outputs": [],
   "source": [
    "# add a column to each set signifying the year \n",
    "N2021_df[\"Year\"] = int(2021)\n",
    "S2021_df[\"Year\"] = int(2021)\n",
    "N2020_df[\"Year\"] = int(2020)\n",
    "S2020_df[\"Year\"] = int(2020)\n",
    "N2019_df[\"Year\"] = int(2019)\n",
    "S2019_df[\"Year\"] = int(2019)"
   ]
  },
  {
   "cell_type": "code",
   "execution_count": 4,
   "metadata": {},
   "outputs": [],
   "source": [
    "#Change the names of the columns for 2019 dataset to match capitilzation of other sets.\n",
    "N2019_df.rename(columns={'occ_code': 'OCC_CODE', 'occ_title': 'OCC_TITLE','o_group' : 'O_GROUP','tot_emp' : 'TOT_EMP','a_mean':'A_MEAN','h_mean':'H_MEAN','area_title':'AREA_TITLE'}, inplace=True)\n",
    "S2019_df.rename(columns={'occ_code': 'OCC_CODE', 'occ_title': 'OCC_TITLE','o_group' : 'O_GROUP','tot_emp' : 'TOT_EMP','a_mean':'A_MEAN','h_mean':'H_MEAN','area_title':'AREA_TITLE'}, inplace=True)\n",
    "\n",
    "#Grab only the columns needed for each table\n",
    "N2021_df = N2021_df[['OCC_CODE','OCC_TITLE','O_GROUP','TOT_EMP','A_MEAN', 'H_MEAN', 'Year', 'AREA_TITLE']]\n",
    "S2021_df = S2021_df[['OCC_CODE','OCC_TITLE','O_GROUP','TOT_EMP','A_MEAN', 'H_MEAN', 'Year', 'AREA_TITLE']]\n",
    "N2020_df = N2020_df[['OCC_CODE','OCC_TITLE','O_GROUP','TOT_EMP','A_MEAN', 'H_MEAN', 'Year', 'AREA_TITLE']]\n",
    "S2020_df = S2020_df[['OCC_CODE','OCC_TITLE','O_GROUP','TOT_EMP','A_MEAN', 'H_MEAN', 'Year', 'AREA_TITLE']]\n",
    "N2019_df = N2019_df[['OCC_CODE','OCC_TITLE','O_GROUP','TOT_EMP','A_MEAN', 'H_MEAN', 'Year', 'AREA_TITLE']]\n",
    "S2019_df = S2019_df[['OCC_CODE','OCC_TITLE','O_GROUP','TOT_EMP','A_MEAN', 'H_MEAN', 'Year', 'AREA_TITLE']]\n",
    "\n",
    "#Combine into 2 data sets, national data and state data.\n",
    "national_df = pd.concat([N2021_df, N2020_df,N2019_df])\n",
    "state_df = pd.concat ([S2021_df, S2020_df,S2019_df])\n",
    "\n",
    "#Keep only rows to do with Art as an occupation according to the occupational code.\n",
    "national_df = national_df.query(\"OCC_CODE in ('27-0000','27-1000','27-1010','27-1011','27-1012','27-1013','27-1014','27-1019','27-1020','27-1021','27-1022','27-1023','27-1024','27-1025','27-1026','27-1027','27-1029','27-2000','27-2010','27-2011','27-2012','27-2030','27-2031','27-2032','27-2040','27-2041','27-2042','27-2090','27-2091','27-2099','27-3000','27-3010','27-3011','27-3020','27-3023','27-3030','27-3031','27-3040','27-3041','27-3042','27-3043','27-3090','27-3091','27-3092','27-3099','27-4000','27-4010','27-4011','27-4012','27-4014','27-4015','27-4020','27-4021','27-4030','27-4031','27-4032','27-4090','27-4099')\")\n",
    "state_df = state_df.query(\"OCC_CODE in ('27-0000','27-1000','27-1010','27-1011','27-1012','27-1013','27-1014','27-1019','27-1020','27-1021','27-1022','27-1023','27-1024','27-1025','27-1026','27-1027','27-1029','27-2000','27-2010','27-2011','27-2012','27-2030','27-2031','27-2032','27-2040','27-2041','27-2042','27-2090','27-2091','27-2099','27-3000','27-3010','27-3011','27-3020','27-3023','27-3030','27-3031','27-3040','27-3041','27-3042','27-3043','27-3090','27-3091','27-3092','27-3099','27-4000','27-4010','27-4011','27-4012','27-4014','27-4015','27-4020','27-4021','27-4030','27-4031','27-4032','27-4090','27-4099')\")\n"
   ]
  },
  {
   "cell_type": "code",
   "execution_count": 5,
   "metadata": {},
   "outputs": [],
   "source": [
    "#Make a dataframe JUST for Missouri\n",
    "missouri_df= state_df.query(\"AREA_TITLE == 'Missouri'\")"
   ]
  },
  {
   "cell_type": "markdown",
   "metadata": {
    "azdata_cell_guid": "e172475a-c4ee-414a-8367-9965355dbba6"
   },
   "source": [
    "## Missing Data\n",
    "\n",
    "Test your dataset for missing data and handle it as needed. Make notes in the form of code comments as to your thought process."
   ]
  },
  {
   "cell_type": "markdown",
   "metadata": {
    "azdata_cell_guid": "e172475a-c4ee-414a-8367-9965355dbba6"
   },
   "source": [
    "## Data sets\n",
    "Missouri only: missouri_df \n",
    "<br>\n",
    "States: state_df\n",
    "<br>\n",
    "National: national_df"
   ]
  },
  {
   "cell_type": "code",
   "execution_count": 6,
   "metadata": {
    "azdata_cell_guid": "e1dc66ef-e471-4c27-92e7-ee878c106eba"
   },
   "outputs": [
    {
     "name": "stdout",
     "output_type": "stream",
     "text": [
      "MISSOURI OCC_CODE       0\n",
      "OCC_TITLE      0\n",
      "O_GROUP        0\n",
      "TOT_EMP        2\n",
      "A_MEAN        16\n",
      "H_MEAN         4\n",
      "Year           0\n",
      "AREA_TITLE     0\n",
      "dtype: int64\n",
      "NATIONAL OCC_CODE       0\n",
      "OCC_TITLE      0\n",
      "O_GROUP        0\n",
      "TOT_EMP        0\n",
      "A_MEAN        19\n",
      "H_MEAN         0\n",
      "Year           0\n",
      "AREA_TITLE     0\n",
      "dtype: int64\n",
      "STATE OCC_CODE        0\n",
      "OCC_TITLE       0\n",
      "O_GROUP         0\n",
      "TOT_EMP       171\n",
      "A_MEAN        541\n",
      "H_MEAN        181\n",
      "Year            0\n",
      "AREA_TITLE      0\n",
      "dtype: int64\n"
     ]
    }
   ],
   "source": [
    "#Check for the number of null values. See notes below: asteriks were replaced with null values. \n",
    "print('MISSOURI',missouri_df.isnull().sum())\n",
    "print('NATIONAL',national_df.isnull().sum())\n",
    "print('STATE',state_df.isnull().sum())"
   ]
  },
  {
   "cell_type": "code",
   "execution_count": 7,
   "metadata": {},
   "outputs": [],
   "source": [
    "#Show the rows with \"**\" and \"*\"\n",
    "#missouri_df.loc[missouri_df['TOT_EMP'] == '**']\n",
    "#missouri_df.loc[missouri_df['A_MEAN'] == '*']\n",
    "#missouri_df.loc[missouri_df['H_MEAN'] == '*']\n",
    "\n",
    "#state_df.loc[state_df['TOT_EMP'] == '**']\n",
    "#state_df.loc[state_df['A_MEAN'] == '*']\n",
    "#state_df.loc[state_df['H_MEAN'] == '*']\n",
    "\n",
    "#national_df.loc[national_df['TOT_EMP'] == '**']\n",
    "#national_df.loc[national_df['A_MEAN'] == '*']\n",
    "#national_df.loc[national_df['H_MEAN'] == '*']\n"
   ]
  },
  {
   "cell_type": "markdown",
   "metadata": {
    "azdata_cell_guid": "1233f543-e9a0-4f78-96f5-d7536554102e"
   },
   "source": [
    "## Summary of above code:\n",
    "•missouri_df['TOT_EMP']: 2 rows with **<br>\n",
    "•missouri_df['A_MEAN']: 16 rows with *<br>\n",
    "•missouri_df['H_MEAN']: 10 rows with *<br>\n",
    "<br>\n",
    "•national_df['TOT_EMP']: 0 rows with **<br>\n",
    "•national_df['A_MEAN']: 19 rows with *<br>\n",
    "•national_df['H_MEAN']: 9 rows with *<br>\n",
    "<br>\n",
    "•state_df['TOT_EMP']: 179 rows with **<br>\n",
    "•state_df['A_MEAN']: 546 rows with *<br>\n",
    "•state_df['H_MEAN']: 458 rows with *<br>\n",
    "\n",
    "**ACTION: replace asteriks with null so TOT_EMP, A_MEAN and H_MEAN can be converted to datatype int for calculations and graphs. Code was added just after creating the original dataframes replacing asteriks with NaN to avoid errors.** "
   ]
  },
  {
   "cell_type": "markdown",
   "metadata": {
    "azdata_cell_guid": "1233f543-e9a0-4f78-96f5-d7536554102e"
   },
   "source": [
    "## Irregular Data\n",
    "\n",
    "Detect outliers in your dataset and handle them as needed. Use code comments to make notes about your thought process."
   ]
  },
  {
   "cell_type": "code",
   "execution_count": 8,
   "metadata": {
    "azdata_cell_guid": "efed50ae-16f0-471d-98e2-632553a74c12"
   },
   "outputs": [
    {
     "name": "stdout",
     "output_type": "stream",
     "text": [
      "MISSOURI OCC_CODE       object\n",
      "OCC_TITLE      object\n",
      "O_GROUP        object\n",
      "TOT_EMP       float64\n",
      "A_MEAN         object\n",
      "H_MEAN         object\n",
      "Year            int64\n",
      "AREA_TITLE     object\n",
      "dtype: object\n",
      "STATE OCC_CODE       object\n",
      "OCC_TITLE      object\n",
      "O_GROUP        object\n",
      "TOT_EMP       float64\n",
      "A_MEAN         object\n",
      "H_MEAN         object\n",
      "Year            int64\n",
      "AREA_TITLE     object\n",
      "dtype: object\n",
      "NATIONAL OCC_CODE       object\n",
      "OCC_TITLE      object\n",
      "O_GROUP        object\n",
      "TOT_EMP       float64\n",
      "A_MEAN        float64\n",
      "H_MEAN        float64\n",
      "Year            int64\n",
      "AREA_TITLE     object\n",
      "dtype: object\n"
     ]
    }
   ],
   "source": [
    "#Check data types. missouri_df and state_df's [A_MEAN] and [H_MEAN] are listed as objects and need to be converted to floats.\n",
    "print('MISSOURI',missouri_df.dtypes)\n",
    "print('STATE',state_df.dtypes)\n",
    "print('NATIONAL',national_df.dtypes)"
   ]
  },
  {
   "cell_type": "code",
   "execution_count": 9,
   "metadata": {},
   "outputs": [
    {
     "name": "stderr",
     "output_type": "stream",
     "text": [
      "/var/folders/wh/snng78rj2bq7994wy2x1xtqc0000gn/T/ipykernel_21092/239371922.py:2: SettingWithCopyWarning: \n",
      "A value is trying to be set on a copy of a slice from a DataFrame.\n",
      "Try using .loc[row_indexer,col_indexer] = value instead\n",
      "\n",
      "See the caveats in the documentation: https://pandas.pydata.org/pandas-docs/stable/user_guide/indexing.html#returning-a-view-versus-a-copy\n",
      "  missouri_df['A_MEAN'] = missouri_df['A_MEAN'].astype(float)\n",
      "/var/folders/wh/snng78rj2bq7994wy2x1xtqc0000gn/T/ipykernel_21092/239371922.py:3: SettingWithCopyWarning: \n",
      "A value is trying to be set on a copy of a slice from a DataFrame.\n",
      "Try using .loc[row_indexer,col_indexer] = value instead\n",
      "\n",
      "See the caveats in the documentation: https://pandas.pydata.org/pandas-docs/stable/user_guide/indexing.html#returning-a-view-versus-a-copy\n",
      "  missouri_df['H_MEAN'] = missouri_df['H_MEAN'].astype(float)\n"
     ]
    }
   ],
   "source": [
    "#Convert numerical columns to float (if they aren't already). \n",
    "missouri_df['A_MEAN'] = missouri_df['A_MEAN'].astype(float)\n",
    "missouri_df['H_MEAN'] = missouri_df['H_MEAN'].astype(float)\n",
    "\n",
    "state_df['A_MEAN'] = state_df['A_MEAN'].astype(float)\n",
    "state_df['H_MEAN'] = state_df['H_MEAN'].astype(float)\n",
    "\n",
    "#The code above threw an error message, but the casting did take. "
   ]
  },
  {
   "cell_type": "markdown",
   "metadata": {
    "azdata_cell_guid": "6f5b8ee0-bab3-44bc-958a-67d1e4c0407f"
   },
   "source": [
    "## Unnecessary Data\n",
    "\n",
    "Look for the different types of unnecessary data in your dataset and address it as needed. Make sure to use code comments to illustrate your thought process."
   ]
  },
  {
   "cell_type": "code",
   "execution_count": 10,
   "metadata": {
    "azdata_cell_guid": "e788a239-2fbf-41de-9bd3-19e52e3b187c"
   },
   "outputs": [],
   "source": [
    "#Get rid of occupations that are sports and not artists by removing occupational codes for sports related occupations in above code. \n"
   ]
  },
  {
   "cell_type": "code",
   "execution_count": 11,
   "metadata": {},
   "outputs": [
    {
     "name": "stdout",
     "output_type": "stream",
     "text": [
      "MISSOURI\n",
      "(105, 8)\n",
      "OCC_CODE      38\n",
      "OCC_TITLE     38\n",
      "O_GROUP        2\n",
      "TOT_EMP       71\n",
      "A_MEAN        89\n",
      "H_MEAN        99\n",
      "Year           3\n",
      "AREA_TITLE     1\n",
      "dtype: int64\n",
      "\n",
      " STATE\n",
      "(4754, 8)\n",
      "OCC_CODE        40\n",
      "OCC_TITLE       40\n",
      "O_GROUP          2\n",
      "TOT_EMP        682\n",
      "A_MEAN        3035\n",
      "H_MEAN        2391\n",
      "Year             3\n",
      "AREA_TITLE      54\n",
      "dtype: int64\n",
      "\n",
      "NATIONAL\n",
      "(164, 8)\n",
      "OCC_CODE       58\n",
      "OCC_TITLE      55\n",
      "O_GROUP         4\n",
      "TOT_EMP       148\n",
      "A_MEAN        132\n",
      "H_MEAN        149\n",
      "Year            3\n",
      "AREA_TITLE      1\n",
      "dtype: int64\n"
     ]
    }
   ],
   "source": [
    "#Checking unique values to see if there are any flags. See what the two O_GROUPS are, how many and if \n",
    "#it would benefit the analysis to cull the data further based on that information.\n",
    "print('MISSOURI')\n",
    "print(missouri_df.shape)\n",
    "print(missouri_df.nunique())\n",
    "print('\\n','STATE')\n",
    "print(state_df.shape)\n",
    "print(state_df.nunique())\n",
    "print('\\n''NATIONAL')\n",
    "print(national_df.shape)\n",
    "print(national_df.nunique())"
   ]
  },
  {
   "cell_type": "markdown",
   "metadata": {
    "azdata_cell_guid": "53e0cf94-c68a-4fa0-9849-9505a66bcce6"
   },
   "source": [
    "## Inconsistent Data\n",
    "\n",
    "Check for inconsistent data and address any that arises. As always, use code comments to illustrate your thought process."
   ]
  },
  {
   "cell_type": "code",
   "execution_count": 12,
   "metadata": {
    "azdata_cell_guid": "e9de6624-812a-43f8-8e20-93b4a49b091f"
   },
   "outputs": [
    {
     "data": {
      "text/html": [
       "<div>\n",
       "<style scoped>\n",
       "    .dataframe tbody tr th:only-of-type {\n",
       "        vertical-align: middle;\n",
       "    }\n",
       "\n",
       "    .dataframe tbody tr th {\n",
       "        vertical-align: top;\n",
       "    }\n",
       "\n",
       "    .dataframe thead th {\n",
       "        text-align: right;\n",
       "    }\n",
       "</style>\n",
       "<table border=\"1\" class=\"dataframe\">\n",
       "  <thead>\n",
       "    <tr style=\"text-align: right;\">\n",
       "      <th></th>\n",
       "      <th>OCC_CODE</th>\n",
       "      <th>OCC_TITLE</th>\n",
       "      <th>O_GROUP</th>\n",
       "      <th>TOT_EMP</th>\n",
       "      <th>A_MEAN</th>\n",
       "      <th>H_MEAN</th>\n",
       "      <th>Year</th>\n",
       "      <th>AREA_TITLE</th>\n",
       "    </tr>\n",
       "  </thead>\n",
       "  <tbody>\n",
       "    <tr>\n",
       "      <th>18263</th>\n",
       "      <td>27-1011</td>\n",
       "      <td>Art Directors</td>\n",
       "      <td>detailed</td>\n",
       "      <td>500.0</td>\n",
       "      <td>84150.0</td>\n",
       "      <td>40.46</td>\n",
       "      <td>2021</td>\n",
       "      <td>Missouri</td>\n",
       "    </tr>\n",
       "    <tr>\n",
       "      <th>18264</th>\n",
       "      <td>27-1012</td>\n",
       "      <td>Craft Artists</td>\n",
       "      <td>detailed</td>\n",
       "      <td>250.0</td>\n",
       "      <td>48090.0</td>\n",
       "      <td>23.12</td>\n",
       "      <td>2021</td>\n",
       "      <td>Missouri</td>\n",
       "    </tr>\n",
       "    <tr>\n",
       "      <th>18265</th>\n",
       "      <td>27-1014</td>\n",
       "      <td>Special Effects Artists and Animators</td>\n",
       "      <td>detailed</td>\n",
       "      <td>90.0</td>\n",
       "      <td>67190.0</td>\n",
       "      <td>32.30</td>\n",
       "      <td>2021</td>\n",
       "      <td>Missouri</td>\n",
       "    </tr>\n",
       "    <tr>\n",
       "      <th>18266</th>\n",
       "      <td>27-1019</td>\n",
       "      <td>Artists and Related Workers, All Other</td>\n",
       "      <td>detailed</td>\n",
       "      <td>70.0</td>\n",
       "      <td>63590.0</td>\n",
       "      <td>30.57</td>\n",
       "      <td>2021</td>\n",
       "      <td>Missouri</td>\n",
       "    </tr>\n",
       "    <tr>\n",
       "      <th>18267</th>\n",
       "      <td>27-1021</td>\n",
       "      <td>Commercial and Industrial Designers</td>\n",
       "      <td>detailed</td>\n",
       "      <td>170.0</td>\n",
       "      <td>65390.0</td>\n",
       "      <td>31.44</td>\n",
       "      <td>2021</td>\n",
       "      <td>Missouri</td>\n",
       "    </tr>\n",
       "    <tr>\n",
       "      <th>...</th>\n",
       "      <td>...</td>\n",
       "      <td>...</td>\n",
       "      <td>...</td>\n",
       "      <td>...</td>\n",
       "      <td>...</td>\n",
       "      <td>...</td>\n",
       "      <td>...</td>\n",
       "      <td>...</td>\n",
       "    </tr>\n",
       "    <tr>\n",
       "      <th>17658</th>\n",
       "      <td>27-4012</td>\n",
       "      <td>Broadcast Technicians</td>\n",
       "      <td>detailed</td>\n",
       "      <td>600.0</td>\n",
       "      <td>40730.0</td>\n",
       "      <td>19.58</td>\n",
       "      <td>2019</td>\n",
       "      <td>Missouri</td>\n",
       "    </tr>\n",
       "    <tr>\n",
       "      <th>17659</th>\n",
       "      <td>27-4014</td>\n",
       "      <td>Sound Engineering Technicians</td>\n",
       "      <td>detailed</td>\n",
       "      <td>220.0</td>\n",
       "      <td>47310.0</td>\n",
       "      <td>22.74</td>\n",
       "      <td>2019</td>\n",
       "      <td>Missouri</td>\n",
       "    </tr>\n",
       "    <tr>\n",
       "      <th>17660</th>\n",
       "      <td>27-4021</td>\n",
       "      <td>Photographers</td>\n",
       "      <td>detailed</td>\n",
       "      <td>1140.0</td>\n",
       "      <td>32700.0</td>\n",
       "      <td>15.72</td>\n",
       "      <td>2019</td>\n",
       "      <td>Missouri</td>\n",
       "    </tr>\n",
       "    <tr>\n",
       "      <th>17661</th>\n",
       "      <td>27-4031</td>\n",
       "      <td>Camera Operators, Television, Video, and Film</td>\n",
       "      <td>detailed</td>\n",
       "      <td>230.0</td>\n",
       "      <td>54530.0</td>\n",
       "      <td>26.22</td>\n",
       "      <td>2019</td>\n",
       "      <td>Missouri</td>\n",
       "    </tr>\n",
       "    <tr>\n",
       "      <th>17662</th>\n",
       "      <td>27-4032</td>\n",
       "      <td>Film and Video Editors</td>\n",
       "      <td>detailed</td>\n",
       "      <td>300.0</td>\n",
       "      <td>53350.0</td>\n",
       "      <td>25.65</td>\n",
       "      <td>2019</td>\n",
       "      <td>Missouri</td>\n",
       "    </tr>\n",
       "  </tbody>\n",
       "</table>\n",
       "<p>102 rows × 8 columns</p>\n",
       "</div>"
      ],
      "text/plain": [
       "      OCC_CODE                                      OCC_TITLE   O_GROUP  \\\n",
       "18263  27-1011                                  Art Directors  detailed   \n",
       "18264  27-1012                                  Craft Artists  detailed   \n",
       "18265  27-1014          Special Effects Artists and Animators  detailed   \n",
       "18266  27-1019         Artists and Related Workers, All Other  detailed   \n",
       "18267  27-1021            Commercial and Industrial Designers  detailed   \n",
       "...        ...                                            ...       ...   \n",
       "17658  27-4012                          Broadcast Technicians  detailed   \n",
       "17659  27-4014                  Sound Engineering Technicians  detailed   \n",
       "17660  27-4021                                  Photographers  detailed   \n",
       "17661  27-4031  Camera Operators, Television, Video, and Film  detailed   \n",
       "17662  27-4032                         Film and Video Editors  detailed   \n",
       "\n",
       "       TOT_EMP   A_MEAN  H_MEAN  Year AREA_TITLE  \n",
       "18263    500.0  84150.0   40.46  2021   Missouri  \n",
       "18264    250.0  48090.0   23.12  2021   Missouri  \n",
       "18265     90.0  67190.0   32.30  2021   Missouri  \n",
       "18266     70.0  63590.0   30.57  2021   Missouri  \n",
       "18267    170.0  65390.0   31.44  2021   Missouri  \n",
       "...        ...      ...     ...   ...        ...  \n",
       "17658    600.0  40730.0   19.58  2019   Missouri  \n",
       "17659    220.0  47310.0   22.74  2019   Missouri  \n",
       "17660   1140.0  32700.0   15.72  2019   Missouri  \n",
       "17661    230.0  54530.0   26.22  2019   Missouri  \n",
       "17662    300.0  53350.0   25.65  2019   Missouri  \n",
       "\n",
       "[102 rows x 8 columns]"
      ]
     },
     "execution_count": 12,
     "metadata": {},
     "output_type": "execute_result"
    }
   ],
   "source": [
    "missouri_df.loc[missouri_df['O_GROUP'] == 'detailed']"
   ]
  },
  {
   "cell_type": "markdown",
   "metadata": {
    "azdata_cell_guid": "dedc0bfe-17d0-40b2-914f-2ddb54f9ce0d"
   },
   "source": [
    "## Summarize Your Results\n",
    "\n",
    "Make note of your answers to the following questions.\n",
    "\n",
    "1. Did you find all four types of dirty data in your dataset? Yes.<br> \n",
    "•Missing data: missing data was signified with asterisks in the dataset. I replaced these with null values so I could recast the columns as float instead of object. \n",
    "\n",
    "•Irregular Data: I converted  columns with numerical value from object to float. \n",
    "\n",
    "•Unnecessary Data: I removed occupations that were sports related and not arts related. I also removed unnecessary columns such as AREA_TYPE, I_Group and H_PST75.\n",
    "\n",
    "•Inconsistent Data: I capitalized the column names for the 2019 datasets to match the other datasets.<br> \n",
    "<br> \n",
    "2. Did the process of cleaning your data give you new insights into your dataset? Yes- after removing the asteriks I was able to see the number of null values and for some columns it was significant.\n",
    "<br>\n",
    "<br>\n",
    "3. Is there anything you would like to make note of when it comes to manipulating the data and making visualizations? Keep track of how the null values are affecting aggregations and be sure to keep tabs on that O_GROUP column. "
   ]
  },
  {
   "cell_type": "code",
   "execution_count": 13,
   "metadata": {},
   "outputs": [
    {
     "name": "stdout",
     "output_type": "stream",
     "text": [
      "total 56\n",
      "-rw-rw-r--@ 1 nicolette  staff    25K Feb 15 11:23 checkpoint-three.ipynb\n"
     ]
    }
   ],
   "source": [
    "#Checkpoint 2 file crashed due to file size, this is to check file size before saving.\n",
    "!ls -lh"
   ]
  }
 ],
 "metadata": {
  "kernelspec": {
   "display_name": "Python 3 (ipykernel)",
   "language": "python",
   "name": "python3"
  },
  "language_info": {
   "codemirror_mode": {
    "name": "ipython",
    "version": 3
   },
   "file_extension": ".py",
   "mimetype": "text/x-python",
   "name": "python",
   "nbconvert_exporter": "python",
   "pygments_lexer": "ipython3",
   "version": "3.9.12"
  }
 },
 "nbformat": 4,
 "nbformat_minor": 4
}
